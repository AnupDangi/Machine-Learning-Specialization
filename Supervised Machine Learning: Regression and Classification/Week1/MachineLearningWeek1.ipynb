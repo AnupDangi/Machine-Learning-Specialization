{
 "cells": [
  {
   "attachments": {},
   "cell_type": "markdown",
   "id": "e9d8b4ca-9c84-43a2-9f60-2962fe33bfbf",
   "metadata": {},
   "source": [
    "# This is Machine Learning Week1 \n",
    "\n",
    "Machine Learning is a field of study that gives computers the ability to learn without being explicity programmed\n",
    "-Arthur Samuel(1959)\n",
    "\n",
    "-Types are \n",
    "-Supervised Learning \n",
    "-Unsupervised Learning\n",
    "-Recommender System\n",
    "-Reinforcement Learning\n",
    "\n",
    "\n",
    "1.Supervised Learning\n",
    "It refers to algorithm in which we give input->and gets output and the output is also given \n",
    "\n",
    "Example of Supervised Learning Application\n",
    "\n",
    "<img src=\"images/image1.png\" width=\"500\"/>"
   ]
  },
  {
   "attachments": {},
   "cell_type": "markdown",
   "id": "0fb09ad4-2155-49f8-a80f-2b9a39f3d913",
   "metadata": {},
   "source": [
    "# Regression -Housing Price prediction\n",
    "\n",
    "Regression is a statistical method used to examine the relationship between one dependent variable and one or more independent variables.\n",
    "\n",
    " <img src=\"images/img2.png\" width=\"500\"/>"
   ]
  },
  {
   "cell_type": "markdown",
   "id": "4b57f897-8b74-42d3-9163-aba8e2f74b62",
   "metadata": {},
   "source": [
    "# Classsification:Breast Cancer detection \n",
    "\n",
    "malignant -Malignant tumors are cancerous and have the ability to invade and destroy surrounding tissues and organs\n",
    "\n",
    "benign- Benign tumors are non-cancerous and do not spread to other parts of the body\n",
    "\n",
    "<img src=\"images/img3.png\" width=\"500px\"/>\n",
    "\n",
    "Two or more inputs \n",
    "\n",
    "<img src=\"images/tumors.png\" width=\"500px\"/>"
   ]
  },
  {
   "cell_type": "markdown",
   "id": "654cd2aa-48eb-42e9-a91e-cd460f5445b9",
   "metadata": {},
   "source": [
    "# Unsupervised Learning\n",
    "The data is not associated with right answers the model is asked to  predict the right answers.\n",
    "Find something interesting form unlabeled data.\n",
    "\n",
    "Comparision given below for supervised and unsupervised Learning.\n",
    "\n",
    "<img src=\"images/compare.png\" width=\"500px\"/>\n",
    "\n",
    "\n",
    "-The major concept to learn is clustering : eg Google News \n",
    "\n",
    "<img src=\"images/clustering.png\" width=\"500px\"/>\n",
    "\n",
    "-Example of Dna clustering \n",
    "\n",
    "<img src=\"images/dnaclustering.png\" width=\"500px\"/>\n",
    "\n",
    "-Example of different sets of group of people\n",
    "\n",
    "<img src=\"images/clusteringgroup.png\" width=\"500px\"/>\n",
    "\n",
    "\n",
    " # Unsupervised Learning \n",
    "Data only comes with inputs x,but not outpus labels y.\n",
    "Algorithm has to find structure in the data.\n",
    "\n",
    "# Clustering\n",
    "Group similar data points together.\n",
    "\n",
    "# Anomaly Detection \n",
    "Find unusal data points \n",
    "\n",
    "# Dimensionality reduction \n",
    "Compress data using fewer numbers."
   ]
  },
  {
   "cell_type": "markdown",
   "id": "fd8750ed-5efd-422c-8ed0-8b4f01304ba6",
   "metadata": {},
   "source": [
    "# Linear Regression \n",
    "Linear regression is a statistical method used to model the relationship between a dependent variable and one or more independent variables by fitting a linear equation to observed data.\n",
    "\n",
    "# Example of Linear Regression\n",
    "\n",
    "<img src=\"images/linearRegression.png\" width=\"500\"/>\n",
    "\n",
    "# Tabular values of input data\n",
    "\n",
    "<img src=\"images/tabularvaluesreg.png\" width=\"500\"/>\n",
    "\n",
    "\n",
    "# Example of Training Data with superscript is given below\n",
    "\n",
    "<img src=\"images/trainingdata.png\" width=\"500\"/>\n",
    "\n",
    "# Training Data and learning alogrithm \n",
    "\n",
    "<img src=\"images/equation.png\" width=\"500\"/>"
   ]
  },
  {
   "attachments": {},
   "cell_type": "markdown",
   "id": "16e39954-79ab-45e0-a32f-dbe45afa5100",
   "metadata": {},
   "source": [
    "# Cost Function\n",
    "\n",
    "Given Training Set \n",
    "f(x)=wx+b\n",
    "where w=weight and b=bais\n",
    "\n",
    "# Different Representation of Regressions varying w and b\n",
    "\n",
    "\n",
    "<img src=\"images/variableregressions.png\" width=\"500\"/>\n",
    "\n",
    "# Now lets define the cost function and the parameters used\n",
    "\n",
    "Here given below ^y refers to output that is y-hat and\n",
    "y(i) is the value of i or data that ie given as input to us.\n",
    "Here i varies from 0 to m number of data given in table \n",
    "\n",
    "Cost Function is also known as Squared error cost function \n",
    "\n",
    "<img src=\"images/CostFunction.png\" width=\"500\"/>\n",
    "\n",
    "\n",
    "\n",
    "# Here the use of cost Function is mentioned and we can simply  it.\n",
    "\n",
    "\n",
    "<img src=\"images/simplifyCF.png\" width=\"500\"/>\n",
    "\n",
    "Lets simplify this figure above\n",
    "The cost function work is to find the error of observed output vs expected output.\n",
    "Either maintaing weight or bais we have to minimize the error.\n",
    "if bais is 0 then f(x) only depends on one variable ie weight \n",
    "and the cost function equation is given below when w is fixed and b =0\n",
    "\n",
    "# The graph given below explains what happens to the fw(x) and J(w) when w the value of w=1\n",
    "\n",
    "<img src=\"images/Wis1.png\" width=\"500\"/>\n",
    "\n",
    "# The graph given below explain when w=0.5 for all dataset\n",
    "\n",
    " <img src=\"images/fxandjw.png\" width=\"500\"/>\n",
    "\n",
    "# when w=1 and how does j(w) changes \n",
    "<img src=\"images/findminw.png\" width=\"500\"/>\n",
    "\n",
    "# The major concept to understand about Cost Function is to minimize J(w,b) \n",
    "\n",
    "<img src=\"images/minJ.png\" width=\"500\"/>"
   ]
  },
  {
   "cell_type": "markdown",
   "id": "35b36823-28a5-418e-b478-6103ffaaecce",
   "metadata": {},
   "source": [
    "# Now Lets Visualize the Cost Function\n",
    "\n",
    "\n",
    "<img src=\"images/Jfun.png\" width=\"500\"/>\n",
    "\n",
    "\n",
    "# If we have to find the variation of J(w,b) based on values of w and b we can plot a 3d graph to visualize them lets see it below\n",
    "<img src=\"images/wbandJ.png\" width=\"500\"/>\n",
    "\n",
    "# Getting Same J(w,b) values even though we have different values of w and b\n",
    "# Here the knife refers saying that if we make a slice of the graph we get something like ellipse curve with same value of J \n",
    "<img src=\"images/sameJval.png\" width=\"500\"/>\n",
    "\n",
    "# Plotting different values of w and b and slicing out the graph to look from the closer and find the slope to minimize error \n",
    "# but this values of w and b are not good fit to predict the values or y\n",
    "\n",
    "<img src=\"images/plotwandb.png\" width=\"500\"/>\n",
    "\n",
    "# Take another example of w and b \n",
    "This is also a not good values of w and b it is further away from getting close to the prediction model\n",
    "\n",
    "<img src=\"images/n1valwandb.png\" width=\"500\"/>\n",
    "\n",
    "# Here this is the example where the error is minimized than previous value of w and b\n",
    "<img src=\"images/val2wandb.png\" width=\"500\"/>"
   ]
  },
  {
   "cell_type": "markdown",
   "id": "921115b9-5e85-4118-a1de-5113c47c86c1",
   "metadata": {},
   "source": [
    "# Training Linear Regression\n",
    "# Gradient Descent\n",
    "Gradient Descent is an optimization algorithm widely used in machine learning and deep learning to minimize a cost function. It iteratively adjusts the parameters of a model to find the optimal values that reduce the cost function, which measures how well the model performs.\n",
    "\n",
    "# Steps how does Gradient Descent Works \n",
    "# 1. Start with random values w,b  eg(set w=0 ,b=0)\n",
    "# 2. Keep changing w,b to reduce J(w,b) \n",
    "# 3.Until we settle at or near a minimum \n",
    "# Note : We can have many minimum values \n",
    "# Goal is to minimize J(w,b)\n",
    "\n",
    "<img src=\"images/gradientdescent.png\" width=\"800\" height=\"600\"/>\n",
    "\n",
    "# Points to observe from the graph above is:\n",
    "1.As we move to different values of w and b the local minimum changes or varies so which will land us upon getting different minimum values \n",
    "J(w,b) it can the most minimum or may not.\n",
    "\n",
    "2.We have two minimum  from the graph above so, it helps to get multiple minimum values of J(w,b)"
   ]
  },
  {
   "cell_type": "markdown",
   "id": "ee267d10-de90-45d2-85de-5fbec2c4e768",
   "metadata": {},
   "source": [
    "# Lets find out Gradient descent Algorithm\n",
    "<img src=\"images/graddesalgo.png\" width=\"800\" />"
   ]
  },
  {
   "cell_type": "markdown",
   "id": "31aa88d2-5480-45f1-b4c5-594d40f5862d",
   "metadata": {},
   "source": [
    "# Gradient descent using intuition \n",
    " Key points to understand form the picture is as we use partial derivative to find cost function ie J(w,b)\n",
    " here w and b are independent to each other in partial derivate so the differentaion of b with respect to w is 0 and it helps to \n",
    " reduce the graph dimension to get the understanding from 3-d where the previous picture axis were w,b,J(w,b) now \n",
    " after using gradient descent we have reduced it to 2-d where the axis is w,J(w) now it helps us to get the minimum error in output.\n",
    " You can understand this from the picture below.\n",
    "\n",
    " <img src=\"images/graddes2.png\" width=\"800\"/>\n",
    "\n",
    "# Now the graph given below shows you the cases when w derivate/slope you get from the graph is either +ve or -ve\n",
    "  <img src=\"images/Understandgraddesgraph.png\" width=\"800\"/>\n",
    "Either w increase from left to right part of the graph or decreases from right to left part of the graph it should be at the lower minimum \n",
    "after multiple values of w.\n",
    "\n",
    "\n",
    "# How to choose alpha(α) value so that our weight(w) is minimum and finally we get the minimum value of w \n",
    "\n",
    "Key points to understand:\n",
    "\n",
    "When (α) is very small gradient descent may be slow.\n",
    "When (α) is very large gradient desecne may overshoot , never reach minimum and fail to converge to the local minima and diverge drastically.\n",
    "\n",
    "\n",
    "<img src=\"images/Alpha.png\" width=\"800\"/>\n",
    "\n",
    "# When we reach a local minimum with slope 0 then w remain constant as preivous one \n",
    "\n",
    "<img src=\"images/localmin.png\" width=\"800\"/>\n",
    "\n",
    "\n",
    "\n",
    "# Can we reach local  minimum when fixed value of (α)Learning rate\n",
    "\n",
    " \n",
    "<img src=\"images/reachlocalmin.png\" width=\"800\"/>\n",
    "\n",
    "\n"
   ]
  },
  {
   "cell_type": "markdown",
   "id": "c7fb769c-d0a0-4e67-9b9c-595c50dbd57a",
   "metadata": {},
   "source": [
    "# Using Gradient Descent for linear Regression\n",
    "\n",
    "<img src=\"images/linreggraddes.png\" width=\"800\"/>\n",
    "\n",
    "\n",
    "\n",
    "# Solving the parital derivate to the equation\n",
    "\n",
    "<img src=\"images/solvepd.png\" width=\"800\"/>\n",
    "\n",
    "\n",
    "# This equation in linear Regression is used until the convergence or reaching end point to stop using alogrithm and cost function stops changing and error is minimum.\n",
    "\n",
    "\n",
    "<img src=\"images/GraddesAlgoupdation.png\" width=\"800\"/>\n",
    "\n",
    "# If we use Gradient descent we will get more than one local points \n",
    "<img src=\"images/morelocalmins.png\" width=\"800\"/>\n",
    "\n",
    "# But if we combine the gradient descent to find the linear regression we will get only one global minimum \n",
    "<img src=\"images/globalmin.png\" width=\"800\"/>\n",
    "\n",
    "\n"
   ]
  },
  {
   "cell_type": "markdown",
   "id": "8e9c58da-aaae-4066-9d20-250d1bbcd58d",
   "metadata": {},
   "source": [
    "# Batch Gradient Descent \n",
    "Batch : Each step of gradient descent uses all the training examples.\n",
    "<img src=\"images/predictthevalue.png\" width=\"800\"/>\n",
    "\n",
    "# This process uses batch gradient descent which look all the training example \n",
    "<img src=\"images/Thebatch.png\" width=\"800\"/>"
   ]
  },
  {
   "cell_type": "markdown",
   "id": "c5bbf4a2-1c62-4051-b0bd-36db0083a6cf",
   "metadata": {},
   "source": [
    "# Here the example of training data is given below\n",
    "<img src=\"images/Train.png\" width=\"800\"/>\n"
   ]
  },
  {
   "cell_type": "code",
   "execution_count": 19,
   "id": "166e6ed7-b88d-4db9-82f1-b759cb0e7cf2",
   "metadata": {},
   "outputs": [],
   "source": [
    "import numpy as np \n",
    "import matplotlib.pyplot as plt"
   ]
  },
  {
   "cell_type": "code",
   "execution_count": 14,
   "id": "0f2ac74b-a00f-42d6-9838-d1bfb48da88a",
   "metadata": {},
   "outputs": [
    {
     "name": "stdout",
     "output_type": "stream",
     "text": [
      "x_train =[1. 2.]\n",
      "y_train=[300. 500.]\n"
     ]
    }
   ],
   "source": [
    "#x is the input variable(size in 1000 squre feet)\n",
    "#y_train is the target price in 1000s of dollars\n",
    "x_train=np.array([1.0,2.0])\n",
    "y_train=np.array([300.0,500.0])\n",
    "print(f\"x_train ={x_train}\")\n",
    "print(f\"y_train={y_train}\")"
   ]
  },
  {
   "cell_type": "code",
   "execution_count": 15,
   "id": "36c07f74-a4a9-49bd-bc42-83701750aee9",
   "metadata": {},
   "outputs": [
    {
     "name": "stdout",
     "output_type": "stream",
     "text": [
      "x_train.shape:(2,)\n",
      "Number of training example is :2\n"
     ]
    }
   ],
   "source": [
    "# Find the  number of training values or data\n",
    "''' Number of training examples m¶\n",
    "You will use m to denote the number of training examples. Numpy arrays have a .shape parameter. x_train.shape\n",
    "returns a python tuple with an entry for each dimension. x_train.shape[0] is the length of the array and number of examples as shown below.'''\n",
    "\n",
    "print(f\"x_train.shape:{x_train.shape}\")\n",
    "m=x_train.shape[0]\n",
    "print(f\"Number of training example is :{m}\")"
   ]
  },
  {
   "cell_type": "code",
   "execution_count": 16,
   "id": "4da685dc-2351-49d9-b31a-0530db6d4998",
   "metadata": {},
   "outputs": [
    {
     "name": "stdout",
     "output_type": "stream",
     "text": [
      "Number of training examples is: 2\n"
     ]
    }
   ],
   "source": [
    "# m is the number of training examples\n",
    "m = len(x_train)\n",
    "print(f\"Number of training examples is: {m}\")"
   ]
  },
  {
   "cell_type": "markdown",
   "id": "28a3fbf7-30a1-4fe5-af39-d90652fbe11d",
   "metadata": {},
   "source": [
    "\n",
    "You will use (x (𝑖)\n",
    " , y (𝑖)\n",
    " ) to denote the  𝑖𝑡ℎ\n",
    "  training example. Since Python is zero indexed, (x (0)\n",
    " , y (0)\n",
    " ) is (1.0, 300.0) and (x (1)\n",
    " , y (1)\n",
    " ) is (2.0, 500.0).\n",
    "\n",
    "To access a value in a Numpy array, one indexes the array with the desired offset. For example the syntax to access location zero of x_train is x_train[0]. Run the next code block below to get the  𝑖𝑡ℎ\n",
    "  training example."
   ]
  },
  {
   "cell_type": "code",
   "execution_count": 12,
   "id": "031202e2-9b28-49fe-8602-716b1d42794e",
   "metadata": {},
   "outputs": [
    {
     "name": "stdout",
     "output_type": "stream",
     "text": [
      "(x^0,y^0))=(1.0,300.0)\n"
     ]
    }
   ],
   "source": [
    "i=0 # Change this to 1 to see(x^1,y^2)\n",
    "\n",
    "x_i=x_train[i]\n",
    "y_i=y_train[i]\n",
    "print(f\"(x^{i},y^{i}))=({x_i},{y_i})\")"
   ]
  },
  {
   "cell_type": "markdown",
   "id": "08861992-9f24-4956-962c-ee0b434a5b59",
   "metadata": {},
   "source": [
    "Plotting the data\n",
    "You can plot these two points using the scatter() function in the matplotlib library, as shown in the cell below.\n",
    "\n",
    "The function arguments marker and c show the points as red crosses (the default is blue dots).\n",
    "You can use other functions in the matplotlib library to set the title and labels to display"
   ]
  },
  {
   "cell_type": "code",
   "execution_count": 32,
   "id": "0b2cff41-2ee2-4d28-9d66-bcc367640864",
   "metadata": {},
   "outputs": [
    {
     "data": {
      "text/plain": [
       "Text(0.5, 0, 'Price in 1000sqft')"
      ]
     },
     "execution_count": 32,
     "metadata": {},
     "output_type": "execute_result"
    },
    {
     "data": {
      "image/png": "[encoded data removed]",
      "text/plain": [
       "<Figure size 640x480 with 1 Axes>"
      ]
     },
     "metadata": {},
     "output_type": "display_data"
    }
   ],
   "source": [
    "#Plot the data points \n",
    "plt.scatter(x_train,y_train,marker='x',c='r')\n",
    "#Set the title\n",
    "plt.title(\"Housing Prices\")\n",
    "#Set the y-axis label\n",
    "plt.ylabel('Price in 1000s of dollars')\n",
    "#Set the x-axis label\n",
    "plt.xlabel('Price in 1000sqft')\n",
    "\n",
    "#This graph shows the marker point values for min value of x and max value of y "
   ]
  },
  {
   "cell_type": "markdown",
   "id": "7269c0e5-fdbe-42fb-93bb-818152335ea2",
   "metadata": {},
   "source": [
    "<img src=\"images/ModelFunction.png\" width=\"800\"/>"
   ]
  },
  {
   "cell_type": "code",
   "execution_count": 36,
   "id": "003dc2f0-155d-4b0b-9b90-392d693485d9",
   "metadata": {},
   "outputs": [
    {
     "name": "stdout",
     "output_type": "stream",
     "text": [
      "w: 100\n",
      "b: 100\n"
     ]
    }
   ],
   "source": [
    "w = 100\n",
    "b = 100\n",
    "print(f\"w: {w}\")\n",
    "print(f\"b: {b}\")"
   ]
  },
  {
   "cell_type": "markdown",
   "id": "ef905121-bf4e-4404-8b6d-2ef6df22e861",
   "metadata": {},
   "source": [
    "Now, let's compute the value of  𝑓𝑤,𝑏(𝑥(𝑖))\n",
    "  for your two data points. You can explicitly write this out for each data point as -\n",
    "\n",
    "for  𝑥(0)\n",
    " , f_wb = w * x[0] + b\n",
    "\n",
    "for  𝑥(1)\n",
    " , f_wb = w * x[1] + b\n",
    "\n",
    "For a large number of data points, this can get unwieldy and repetitive. So instead, you \n",
    "can calculate the function output in a for loop as shown in the compute_model_output function below.\n",
    "\n",
    "Note: The argument description (ndarray (m,)) describes a Numpy n-dimensional array of shape (m,). (scalar) describes an argument without dimensions, just a magnitude.\n",
    "Note: np.zero(n) will return a one-dimensional numpy array with  𝑛\n",
    "  entries"
   ]
  },
  {
   "cell_type": "code",
   "execution_count": 38,
   "id": "722c1f88-c409-4f1a-8545-36059727cf55",
   "metadata": {},
   "outputs": [],
   "source": [
    "def compute_model_output(x, w, b):\n",
    "    \"\"\"\n",
    "    Computes the prediction of a linear model\n",
    "    Args:\n",
    "      x (ndarray (m,)): Data, m examples \n",
    "      w,b (scalar)    : model parameters  \n",
    "    Returns\n",
    "      f_wb (ndarray (m,)): model prediction\n",
    "    \"\"\"\n",
    "    m = x.shape[0]\n",
    "    f_wb = np.zeros(m)\n",
    "    for i in range(m):\n",
    "        f_wb[i] = w * x[i] + b\n",
    "        \n",
    "    return f_wb"
   ]
  },
  {
   "cell_type": "markdown",
   "id": "3e06a9c2-ea38-48a0-a47e-74876144235d",
   "metadata": {},
   "source": [
    "Now let's call the compute_model_output function and plot the output.."
   ]
  },
  {
   "cell_type": "code",
   "execution_count": 41,
   "id": "96f3ffa4-28fe-41e5-afbb-4259f665d1ba",
   "metadata": {},
   "outputs": [
    {
     "data": {
      "image/png": "[encoded data removed]",
      "text/plain": [
       "<Figure size 640x480 with 1 Axes>"
      ]
     },
     "metadata": {},
     "output_type": "display_data"
    }
   ],
   "source": [
    "tmp_f_wb = compute_model_output(x_train, w, b,)\n",
    "\n",
    "# Plot our model prediction\n",
    "plt.plot(x_train, tmp_f_wb, c='b',label='Our Prediction')\n",
    "\n",
    "# Plot the data points\n",
    "plt.scatter(x_train, y_train, marker='x', c='r',label='Actual Values')\n",
    "\n",
    "# Set the title\n",
    "plt.title(\"Housing Prices\")\n",
    "# Set the y-axis label\n",
    "plt.ylabel('Price (in 1000s of dollars)')\n",
    "# Set the x-axis label\n",
    "plt.xlabel('Size (1000 sqft)')\n",
    "plt.legend()\n",
    "plt.show()"
   ]
  },
  {
   "cell_type": "markdown",
   "id": "67c997f9-89e8-420c-bcbc-c07d2afa42d7",
   "metadata": {},
   "source": [
    "As you can see, setting  𝑤=100\n",
    "  and  𝑏=100\n",
    "  does not result in a line that fits our data.\n",
    "  \n",
    "  Challenge\n",
    "  \n",
    "Try experimenting with different values of  𝑤\n",
    "  and  𝑏\n",
    " . What should the values be for a line that fits our data?\n",
    "\n",
    "Tip:\n",
    "You can use your mouse to click on the green \"Hints\" below to reveal some hints for choosing b and w.\n",
    "\n",
    "Hints\n",
    "\n",
    "Prediction\n",
    "Now that we have a model, we can use it to make our original prediction. Let's predict the price of a house with 1200 sqft. Since the units of 𝑥\n",
    " are in 1000's of sqft, 𝑥\n",
    " is 1.2.\n",
    "\n"
   ]
  },
  {
   "cell_type": "code",
   "execution_count": 42,
   "id": "6aae7db5-1fed-42a0-99a5-4d28f74a7510",
   "metadata": {},
   "outputs": [
    {
     "name": "stdout",
     "output_type": "stream",
     "text": [
      "$340 thousand dollars\n"
     ]
    }
   ],
   "source": [
    "w = 200                         \n",
    "b = 100    \n",
    "x_i = 1.2\n",
    "cost_1200sqft = w * x_i + b    \n",
    "\n",
    "print(f\"${cost_1200sqft:.0f} thousand dollars\")"
   ]
  },
  {
   "cell_type": "markdown",
   "id": "573d32cb-c357-45ac-8f97-629203b93c1b",
   "metadata": {},
   "source": [
    "Congratulations!\n",
    "In this lab you have learned:\n",
    "\n",
    "Linear regression builds a model which establishes a relationship between features and targets\n",
    "In the example above, the feature was house size and the target was house price\n",
    "for simple linear regression, the model has two parameters  𝑤\n",
    "  and  𝑏\n",
    "  whose values are 'fit' using training data.\n",
    "once a model's parameters have been determined, the model can be used to make predictions on novel data."
   ]
  },
  {
   "cell_type": "markdown",
   "id": "3f1938f9-9afa-4dda-9faf-6550ee370a9d",
   "metadata": {},
   "source": [
    "# Cost Function \n",
    "Goals\n",
    "In this lab you will:\n",
    "\n",
    "you will implement and explore the cost function for linear regression with one variable."
   ]
  },
  {
   "cell_type": "code",
   "execution_count": 20,
   "id": "46013d71-cde7-490c-8d58-1cc78c912875",
   "metadata": {},
   "outputs": [
    {
     "ename": "ModuleNotFoundError",
     "evalue": "No module named 'ipympl'",
     "output_type": "error",
     "traceback": [
      "\u001b[0;31m---------------------------------------------------------------------------\u001b[0m",
      "\u001b[0;31mModuleNotFoundError\u001b[0m                       Traceback (most recent call last)",
      "Cell \u001b[0;32mIn[20], line 2\u001b[0m\n\u001b[1;32m      1\u001b[0m \u001b[38;5;28;01mimport\u001b[39;00m \u001b[38;5;21;01mnumpy\u001b[39;00m \u001b[38;5;28;01mas\u001b[39;00m \u001b[38;5;21;01mnp\u001b[39;00m\n\u001b[0;32m----> 2\u001b[0m \u001b[43mget_ipython\u001b[49m\u001b[43m(\u001b[49m\u001b[43m)\u001b[49m\u001b[38;5;241;43m.\u001b[39;49m\u001b[43mrun_line_magic\u001b[49m\u001b[43m(\u001b[49m\u001b[38;5;124;43m'\u001b[39;49m\u001b[38;5;124;43mmatplotlib\u001b[39;49m\u001b[38;5;124;43m'\u001b[39;49m\u001b[43m,\u001b[49m\u001b[43m \u001b[49m\u001b[38;5;124;43m'\u001b[39;49m\u001b[38;5;124;43mwidget\u001b[39;49m\u001b[38;5;124;43m'\u001b[39;49m\u001b[43m)\u001b[49m\n\u001b[1;32m      3\u001b[0m \u001b[38;5;28;01mimport\u001b[39;00m \u001b[38;5;21;01mmatplotlib\u001b[39;00m\u001b[38;5;21;01m.\u001b[39;00m\u001b[38;5;21;01mpyplot\u001b[39;00m \u001b[38;5;28;01mas\u001b[39;00m \u001b[38;5;21;01mplt\u001b[39;00m\n\u001b[1;32m      4\u001b[0m \u001b[38;5;28;01mfrom\u001b[39;00m \u001b[38;5;21;01mlab_utils_uni\u001b[39;00m \u001b[38;5;28;01mimport\u001b[39;00m plt_intuition, plt_stationary, plt_update_onclick, soup_bowl\n",
      "File \u001b[0;32m/usr/lib/python3.12/site-packages/IPython/core/interactiveshell.py:2480\u001b[0m, in \u001b[0;36mInteractiveShell.run_line_magic\u001b[0;34m(self, magic_name, line, _stack_depth)\u001b[0m\n\u001b[1;32m   2478\u001b[0m     kwargs[\u001b[38;5;124m'\u001b[39m\u001b[38;5;124mlocal_ns\u001b[39m\u001b[38;5;124m'\u001b[39m] \u001b[38;5;241m=\u001b[39m \u001b[38;5;28mself\u001b[39m\u001b[38;5;241m.\u001b[39mget_local_scope(stack_depth)\n\u001b[1;32m   2479\u001b[0m \u001b[38;5;28;01mwith\u001b[39;00m \u001b[38;5;28mself\u001b[39m\u001b[38;5;241m.\u001b[39mbuiltin_trap:\n\u001b[0;32m-> 2480\u001b[0m     result \u001b[38;5;241m=\u001b[39m \u001b[43mfn\u001b[49m\u001b[43m(\u001b[49m\u001b[38;5;241;43m*\u001b[39;49m\u001b[43margs\u001b[49m\u001b[43m,\u001b[49m\u001b[43m \u001b[49m\u001b[38;5;241;43m*\u001b[39;49m\u001b[38;5;241;43m*\u001b[39;49m\u001b[43mkwargs\u001b[49m\u001b[43m)\u001b[49m\n\u001b[1;32m   2482\u001b[0m \u001b[38;5;66;03m# The code below prevents the output from being displayed\u001b[39;00m\n\u001b[1;32m   2483\u001b[0m \u001b[38;5;66;03m# when using magics with decorator @output_can_be_silenced\u001b[39;00m\n\u001b[1;32m   2484\u001b[0m \u001b[38;5;66;03m# when the last Python token in the expression is a ';'.\u001b[39;00m\n\u001b[1;32m   2485\u001b[0m \u001b[38;5;28;01mif\u001b[39;00m \u001b[38;5;28mgetattr\u001b[39m(fn, magic\u001b[38;5;241m.\u001b[39mMAGIC_OUTPUT_CAN_BE_SILENCED, \u001b[38;5;28;01mFalse\u001b[39;00m):\n",
      "File \u001b[0;32m/usr/lib/python3.12/site-packages/IPython/core/magics/pylab.py:103\u001b[0m, in \u001b[0;36mPylabMagics.matplotlib\u001b[0;34m(self, line)\u001b[0m\n\u001b[1;32m     98\u001b[0m     \u001b[38;5;28mprint\u001b[39m(\n\u001b[1;32m     99\u001b[0m         \u001b[38;5;124m\"\u001b[39m\u001b[38;5;124mAvailable matplotlib backends: \u001b[39m\u001b[38;5;132;01m%s\u001b[39;00m\u001b[38;5;124m\"\u001b[39m\n\u001b[1;32m    100\u001b[0m         \u001b[38;5;241m%\u001b[39m _list_matplotlib_backends_and_gui_loops()\n\u001b[1;32m    101\u001b[0m     )\n\u001b[1;32m    102\u001b[0m \u001b[38;5;28;01melse\u001b[39;00m:\n\u001b[0;32m--> 103\u001b[0m     gui, backend \u001b[38;5;241m=\u001b[39m \u001b[38;5;28;43mself\u001b[39;49m\u001b[38;5;241;43m.\u001b[39;49m\u001b[43mshell\u001b[49m\u001b[38;5;241;43m.\u001b[39;49m\u001b[43menable_matplotlib\u001b[49m\u001b[43m(\u001b[49m\u001b[43margs\u001b[49m\u001b[38;5;241;43m.\u001b[39;49m\u001b[43mgui\u001b[49m\u001b[38;5;241;43m.\u001b[39;49m\u001b[43mlower\u001b[49m\u001b[43m(\u001b[49m\u001b[43m)\u001b[49m\u001b[43m \u001b[49m\u001b[38;5;28;43;01mif\u001b[39;49;00m\u001b[43m \u001b[49m\u001b[38;5;28;43misinstance\u001b[39;49m\u001b[43m(\u001b[49m\u001b[43margs\u001b[49m\u001b[38;5;241;43m.\u001b[39;49m\u001b[43mgui\u001b[49m\u001b[43m,\u001b[49m\u001b[43m \u001b[49m\u001b[38;5;28;43mstr\u001b[39;49m\u001b[43m)\u001b[49m\u001b[43m \u001b[49m\u001b[38;5;28;43;01melse\u001b[39;49;00m\u001b[43m \u001b[49m\u001b[43margs\u001b[49m\u001b[38;5;241;43m.\u001b[39;49m\u001b[43mgui\u001b[49m\u001b[43m)\u001b[49m\n\u001b[1;32m    104\u001b[0m     \u001b[38;5;28mself\u001b[39m\u001b[38;5;241m.\u001b[39m_show_matplotlib_backend(args\u001b[38;5;241m.\u001b[39mgui, backend)\n",
      "File \u001b[0;32m/usr/lib/python3.12/site-packages/IPython/core/interactiveshell.py:3677\u001b[0m, in \u001b[0;36mInteractiveShell.enable_matplotlib\u001b[0;34m(self, gui)\u001b[0m\n\u001b[1;32m   3673\u001b[0m         \u001b[38;5;28mprint\u001b[39m(\u001b[38;5;124m'\u001b[39m\u001b[38;5;124mWarning: Cannot change to a different GUI toolkit: \u001b[39m\u001b[38;5;132;01m%s\u001b[39;00m\u001b[38;5;124m.\u001b[39m\u001b[38;5;124m'\u001b[39m\n\u001b[1;32m   3674\u001b[0m                 \u001b[38;5;124m'\u001b[39m\u001b[38;5;124m Using \u001b[39m\u001b[38;5;132;01m%s\u001b[39;00m\u001b[38;5;124m instead.\u001b[39m\u001b[38;5;124m'\u001b[39m \u001b[38;5;241m%\u001b[39m (gui, \u001b[38;5;28mself\u001b[39m\u001b[38;5;241m.\u001b[39mpylab_gui_select))\n\u001b[1;32m   3675\u001b[0m         gui, backend \u001b[38;5;241m=\u001b[39m pt\u001b[38;5;241m.\u001b[39mfind_gui_and_backend(\u001b[38;5;28mself\u001b[39m\u001b[38;5;241m.\u001b[39mpylab_gui_select)\n\u001b[0;32m-> 3677\u001b[0m \u001b[43mpt\u001b[49m\u001b[38;5;241;43m.\u001b[39;49m\u001b[43mactivate_matplotlib\u001b[49m\u001b[43m(\u001b[49m\u001b[43mbackend\u001b[49m\u001b[43m)\u001b[49m\n\u001b[1;32m   3679\u001b[0m \u001b[38;5;28;01mfrom\u001b[39;00m \u001b[38;5;21;01mmatplotlib_inline\u001b[39;00m\u001b[38;5;21;01m.\u001b[39;00m\u001b[38;5;21;01mbackend_inline\u001b[39;00m \u001b[38;5;28;01mimport\u001b[39;00m configure_inline_support\n\u001b[1;32m   3681\u001b[0m configure_inline_support(\u001b[38;5;28mself\u001b[39m, backend)\n",
      "File \u001b[0;32m/usr/lib/python3.12/site-packages/IPython/core/pylabtools.py:410\u001b[0m, in \u001b[0;36mactivate_matplotlib\u001b[0;34m(backend)\u001b[0m\n\u001b[1;32m    405\u001b[0m \u001b[38;5;66;03m# Due to circular imports, pyplot may be only partially initialised\u001b[39;00m\n\u001b[1;32m    406\u001b[0m \u001b[38;5;66;03m# when this function runs.\u001b[39;00m\n\u001b[1;32m    407\u001b[0m \u001b[38;5;66;03m# So avoid needing matplotlib attribute-lookup to access pyplot.\u001b[39;00m\n\u001b[1;32m    408\u001b[0m \u001b[38;5;28;01mfrom\u001b[39;00m \u001b[38;5;21;01mmatplotlib\u001b[39;00m \u001b[38;5;28;01mimport\u001b[39;00m pyplot \u001b[38;5;28;01mas\u001b[39;00m plt\n\u001b[0;32m--> 410\u001b[0m \u001b[43mplt\u001b[49m\u001b[38;5;241;43m.\u001b[39;49m\u001b[43mswitch_backend\u001b[49m\u001b[43m(\u001b[49m\u001b[43mbackend\u001b[49m\u001b[43m)\u001b[49m\n\u001b[1;32m    412\u001b[0m plt\u001b[38;5;241m.\u001b[39mshow\u001b[38;5;241m.\u001b[39m_needmain \u001b[38;5;241m=\u001b[39m \u001b[38;5;28;01mFalse\u001b[39;00m\n\u001b[1;32m    413\u001b[0m \u001b[38;5;66;03m# We need to detect at runtime whether show() is called by the user.\u001b[39;00m\n\u001b[1;32m    414\u001b[0m \u001b[38;5;66;03m# For this, we wrap it into a decorator which adds a 'called' flag.\u001b[39;00m\n",
      "File \u001b[0;32m/usr/lib/python3.12/site-packages/matplotlib/pyplot.py:342\u001b[0m, in \u001b[0;36mswitch_backend\u001b[0;34m(newbackend)\u001b[0m\n\u001b[1;32m    339\u001b[0m \u001b[38;5;66;03m# have to escape the switch on access logic\u001b[39;00m\n\u001b[1;32m    340\u001b[0m old_backend \u001b[38;5;241m=\u001b[39m \u001b[38;5;28mdict\u001b[39m\u001b[38;5;241m.\u001b[39m\u001b[38;5;21m__getitem__\u001b[39m(rcParams, \u001b[38;5;124m'\u001b[39m\u001b[38;5;124mbackend\u001b[39m\u001b[38;5;124m'\u001b[39m)\n\u001b[0;32m--> 342\u001b[0m module \u001b[38;5;241m=\u001b[39m \u001b[43mimportlib\u001b[49m\u001b[38;5;241;43m.\u001b[39;49m\u001b[43mimport_module\u001b[49m\u001b[43m(\u001b[49m\u001b[43mcbook\u001b[49m\u001b[38;5;241;43m.\u001b[39;49m\u001b[43m_backend_module_name\u001b[49m\u001b[43m(\u001b[49m\u001b[43mnewbackend\u001b[49m\u001b[43m)\u001b[49m\u001b[43m)\u001b[49m\n\u001b[1;32m    343\u001b[0m canvas_class \u001b[38;5;241m=\u001b[39m module\u001b[38;5;241m.\u001b[39mFigureCanvas\n\u001b[1;32m    345\u001b[0m required_framework \u001b[38;5;241m=\u001b[39m canvas_class\u001b[38;5;241m.\u001b[39mrequired_interactive_framework\n",
      "File \u001b[0;32m/usr/lib/python3.12/importlib/__init__.py:90\u001b[0m, in \u001b[0;36mimport_module\u001b[0;34m(name, package)\u001b[0m\n\u001b[1;32m     88\u001b[0m             \u001b[38;5;28;01mbreak\u001b[39;00m\n\u001b[1;32m     89\u001b[0m         level \u001b[38;5;241m+\u001b[39m\u001b[38;5;241m=\u001b[39m \u001b[38;5;241m1\u001b[39m\n\u001b[0;32m---> 90\u001b[0m \u001b[38;5;28;01mreturn\u001b[39;00m \u001b[43m_bootstrap\u001b[49m\u001b[38;5;241;43m.\u001b[39;49m\u001b[43m_gcd_import\u001b[49m\u001b[43m(\u001b[49m\u001b[43mname\u001b[49m\u001b[43m[\u001b[49m\u001b[43mlevel\u001b[49m\u001b[43m:\u001b[49m\u001b[43m]\u001b[49m\u001b[43m,\u001b[49m\u001b[43m \u001b[49m\u001b[43mpackage\u001b[49m\u001b[43m,\u001b[49m\u001b[43m \u001b[49m\u001b[43mlevel\u001b[49m\u001b[43m)\u001b[49m\n",
      "File \u001b[0;32m<frozen importlib._bootstrap>:1387\u001b[0m, in \u001b[0;36m_gcd_import\u001b[0;34m(name, package, level)\u001b[0m\n",
      "File \u001b[0;32m<frozen importlib._bootstrap>:1360\u001b[0m, in \u001b[0;36m_find_and_load\u001b[0;34m(name, import_)\u001b[0m\n",
      "File \u001b[0;32m<frozen importlib._bootstrap>:1310\u001b[0m, in \u001b[0;36m_find_and_load_unlocked\u001b[0;34m(name, import_)\u001b[0m\n",
      "File \u001b[0;32m<frozen importlib._bootstrap>:488\u001b[0m, in \u001b[0;36m_call_with_frames_removed\u001b[0;34m(f, *args, **kwds)\u001b[0m\n",
      "File \u001b[0;32m<frozen importlib._bootstrap>:1387\u001b[0m, in \u001b[0;36m_gcd_import\u001b[0;34m(name, package, level)\u001b[0m\n",
      "File \u001b[0;32m<frozen importlib._bootstrap>:1360\u001b[0m, in \u001b[0;36m_find_and_load\u001b[0;34m(name, import_)\u001b[0m\n",
      "File \u001b[0;32m<frozen importlib._bootstrap>:1324\u001b[0m, in \u001b[0;36m_find_and_load_unlocked\u001b[0;34m(name, import_)\u001b[0m\n",
      "\u001b[0;31mModuleNotFoundError\u001b[0m: No module named 'ipympl'"
     ]
    }
   ],
   "source": [
    "import numpy as np\n",
    "%matplotlib widget\n",
    "import matplotlib.pyplot as plt\n",
    "from lab_utils_uni import plt_intuition, plt_stationary, plt_update_onclick, soup_bowl\n",
    "plt.style.use('./deeplearning.mplstyle')"
   ]
  },
  {
   "cell_type": "markdown",
   "id": "7e799e6c-5da7-45a7-bcf4-e2009b27af04",
   "metadata": {},
   "source": [
    "<img src=\"images/PS.png\" width=\"800\"/>"
   ]
  },
  {
   "cell_type": "code",
   "execution_count": 21,
   "id": "fc9b9354-de75-425c-81db-74dd6bc3a09d",
   "metadata": {},
   "outputs": [],
   "source": [
    "x_train = np.array([1.0, 2.0])           #(size in 1000 square feet)\n",
    "y_train = np.array([300.0, 500.0])           #(price in 1000s of dollars)"
   ]
  },
  {
   "cell_type": "markdown",
   "id": "1a28d2f1-1443-4d29-8cee-3313f621c14b",
   "metadata": {},
   "source": [
    "<img src=\"images/CC.png\" width=\"800\"/>"
   ]
  },
  {
   "cell_type": "markdown",
   "id": "de4af23f-2660-4897-ba02-93aaa79ab61e",
   "metadata": {},
   "source": [
    "The code below calculates cost by looping over each example. In each loop:\n",
    "\n",
    "f_wb, a prediction is calculated\n",
    "the difference between the target and the prediction is calculated and squared.\n",
    "this is added to the total cost."
   ]
  },
  {
   "cell_type": "code",
   "execution_count": 22,
   "id": "fb5ab695-a6d4-4638-88cb-4792be304fe2",
   "metadata": {},
   "outputs": [],
   "source": [
    "def compute_cost(x, y, w, b): \n",
    "    \"\"\"\n",
    "    Computes the cost function for linear regression.\n",
    "    \n",
    "    Args:\n",
    "      x (ndarray (m,)): Data, m examples \n",
    "      y (ndarray (m,)): target values\n",
    "      w,b (scalar)    : model parameters  \n",
    "    \n",
    "    Returns\n",
    "        total_cost (float): The cost of using w,b as the parameters for linear regression\n",
    "               to fit the data points in x and y\n",
    "    \"\"\"\n",
    "    # number of training examples\n",
    "    m = x.shape[0] \n",
    "    \n",
    "    cost_sum = 0 \n",
    "    for i in range(m): \n",
    "        f_wb = w * x[i] + b   \n",
    "        cost = (f_wb - y[i]) ** 2  \n",
    "        cost_sum = cost_sum + cost  \n",
    "    total_cost = (1 / (2 * m)) * cost_sum  \n",
    "\n",
    "    return total_cost"
   ]
  },
  {
   "cell_type": "code",
   "execution_count": null,
   "id": "9d3e5257-dc4e-4f2b-8ec1-2071f5848e9f",
   "metadata": {},
   "outputs": [],
   "source": []
  }
 ],
 "metadata": {
  "kernelspec": {
   "display_name": "Python 3 (ipykernel)",
   "language": "python",
   "name": "python3"
  },
  "language_info": {
   "codemirror_mode": {
    "name": "ipython",
    "version": 3
   },
   "file_extension": ".py",
   "mimetype": "text/x-python",
   "name": "python",
   "nbconvert_exporter": "python",
   "pygments_lexer": "ipython3",
   "version": "3.12.4"
  }
 },
 "nbformat": 4,
 "nbformat_minor": 5
}
